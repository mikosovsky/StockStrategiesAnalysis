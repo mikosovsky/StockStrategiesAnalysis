{
 "cells": [
  {
   "cell_type": "markdown",
   "id": "4fec2310",
   "metadata": {},
   "source": [
    "# Supertrend"
   ]
  },
  {
   "cell_type": "markdown",
   "id": "cbda27b6",
   "metadata": {},
   "source": [
    "## Average True Range"
   ]
  },
  {
   "cell_type": "markdown",
   "id": "9132a83f",
   "metadata": {},
   "source": [
    "### True Range"
   ]
  },
  {
   "cell_type": "markdown",
   "id": "858a82f6",
   "metadata": {},
   "source": [
    "$$\\text{TR}_i = \\max\\left(\\text{High}-\\text{Low},\\left|\\text{High}-\\text{Close}_{i-1}\\right|,\\left|\\text{Low}-\\text{Close}_{i-1}\\right|\\right)$$\n"
   ]
  },
  {
   "cell_type": "markdown",
   "id": "03121ab9",
   "metadata": {},
   "source": [
    "### Average True Range"
   ]
  },
  {
   "cell_type": "markdown",
   "id": "f013e05a",
   "metadata": {},
   "source": [
    "$$\\text{ATR}=\\frac{\\sum_{i=0}^n \\text{TR}_i}{n}$$"
   ]
  },
  {
   "cell_type": "markdown",
   "id": "f414d979",
   "metadata": {},
   "source": [
    "ATR the most common periods are 10, 14, 20 shorter period $\\rightarrow$ more sensitive"
   ]
  },
  {
   "cell_type": "markdown",
   "id": "f6361fde",
   "metadata": {},
   "source": [
    "## Basic Bands"
   ]
  },
  {
   "cell_type": "markdown",
   "id": "d2bae718",
   "metadata": {},
   "source": [
    "### Basic Upper Band"
   ]
  },
  {
   "cell_type": "markdown",
   "id": "545d91fe",
   "metadata": {},
   "source": [
    "$$\n",
    "\\text{UB}=\\frac{\\text{High}-\\text{Low}}{2}+\\text{Multimplier}\\times\\text{ATR}\n",
    "$$"
   ]
  },
  {
   "cell_type": "markdown",
   "id": "35dd40a7",
   "metadata": {},
   "source": [
    "### Basic Lower Band"
   ]
  },
  {
   "cell_type": "markdown",
   "id": "725c5b9b",
   "metadata": {},
   "source": [
    "$$\n",
    "\\text{LB}=\\frac{\\text{High}+\\text{Low}}{2}-\\text{Multiplier}\\times\\text{ATR}\n",
    "$$"
   ]
  },
  {
   "cell_type": "markdown",
   "id": "2212926b",
   "metadata": {},
   "source": [
    "where \\\n",
    "Multiplier - default 3 mostly used values $<2,4>$, higher multiplier mean wider buffer, less signals\\\n",
    "ATR - Average True Range for period"
   ]
  },
  {
   "cell_type": "markdown",
   "id": "c803cdca",
   "metadata": {},
   "source": [
    "## Final Bands"
   ]
  },
  {
   "cell_type": "markdown",
   "id": "f99ee95e",
   "metadata": {},
   "source": [
    "### Final Upper Band"
   ]
  },
  {
   "cell_type": "markdown",
   "id": "069ab104",
   "metadata": {},
   "source": [
    "$$\n",
    "\\text{FUB}_i=\n",
    "\\begin{cases}\n",
    "\\min(\\text{UB}_i,\\text{FUB}_{i-1}) & \\text{if Close}_{i-1}\\leq\\text{FUB}_{i-1} \\\\\n",
    "\\text{UB}_i & \\text{if Close}_{i-1}>\\text{FUB}_{i-1}\n",
    "\n",
    "\\end{cases}\n",
    "$$"
   ]
  },
  {
   "cell_type": "markdown",
   "id": "613b963e",
   "metadata": {},
   "source": [
    "### Final Lower Band"
   ]
  },
  {
   "cell_type": "markdown",
   "id": "2aa47ff1",
   "metadata": {},
   "source": [
    "$$\n",
    "\\text{FLB}_i=\n",
    "\\begin{cases}\n",
    "\\max(\\text{LB}_i,\\text{FLB}_{i-1}) & \\text{if Close}_{i-1}\\geq\\text{FLB}_{i-1} \\\\\n",
    "\\text{LB}_i & \\text{if Close}_{i-1}<\\text{FLB}_{i-1}\n",
    "\\end{cases}\n",
    "$$"
   ]
  },
  {
   "cell_type": "markdown",
   "id": "9cdf4b16",
   "metadata": {},
   "source": [
    "## Supertrend"
   ]
  },
  {
   "cell_type": "markdown",
   "id": "04c39537",
   "metadata": {},
   "source": [
    "$$\n",
    "\\text{Supertrend}_i=\n",
    "\\begin{cases}\n",
    "\\text{FLB}_i & \\text{if Close}_i>\\text{FUB}_i \\\\\n",
    "\\text{FUB}_i & \\text{if Close}_i<\\text{FLB}_i\n",
    "\\end{cases}\n",
    "$$"
   ]
  },
  {
   "cell_type": "markdown",
   "id": "8414786f",
   "metadata": {},
   "source": [
    "**If Supertrend is equal FLB then bullish trend else if Supertrend is equal FUB then bearish trend**"
   ]
  },
  {
   "cell_type": "markdown",
   "id": "77f29cc9",
   "metadata": {},
   "source": [
    "## Testing Strategy"
   ]
  },
  {
   "cell_type": "code",
   "execution_count": 2,
   "id": "838eabc0",
   "metadata": {},
   "outputs": [
    {
     "name": "stderr",
     "output_type": "stream",
     "text": [
      "/Users/mikolaj/Desktop/PROJEKTY/StockMarket/MeanReversion/backtester.py:8: FutureWarning: YF.download() has changed argument auto_adjust default to True\n",
      "  df = yf.download(ticker, period=period, interval=interval)\n",
      "[*********************100%***********************]  1 of 1 completed"
     ]
    },
    {
     "name": "stdout",
     "output_type": "stream",
     "text": [
      "Price             Close         High          Low         Open      Volume\n",
      "Date                                                                      \n",
      "1995-09-05   569.169983   569.200012   563.840027   563.859985   332670000\n",
      "1995-09-06   570.169983   570.530029   569.000000   569.169983   369540000\n",
      "1995-09-07   570.289978   571.109985   569.229980   570.169983   321720000\n",
      "1995-09-08   572.679993   572.679993   569.270020   570.289978   317940000\n",
      "1995-09-11   573.909973   575.150024   572.679993   572.679993   296840000\n",
      "...                 ...          ...          ...          ...         ...\n",
      "2025-08-28  6501.859863  6508.229980  6466.959961  6483.839844  4283760000\n",
      "2025-08-29  6460.259766  6491.759766  6444.569824  6489.279785  4234840000\n",
      "2025-09-02  6415.540039  6416.540039  6360.580078  6401.509766  4784000000\n",
      "2025-09-03  6448.259766  6453.669922  6416.169922  6445.819824  4465360000\n",
      "2025-09-04  6502.080078  6502.540039  6445.979980  6456.600098  2695833000\n",
      "\n",
      "[7550 rows x 5 columns]\n"
     ]
    },
    {
     "name": "stderr",
     "output_type": "stream",
     "text": [
      "\n"
     ]
    }
   ],
   "source": [
    "import backtester\n",
    "\n",
    "data = backtester.download_stock_data('^GSPC', '30y', '1d')\n",
    "\n",
    "print(data)\n",
    "\n"
   ]
  },
  {
   "cell_type": "code",
   "execution_count": 7,
   "id": "46899661",
   "metadata": {},
   "outputs": [],
   "source": [
    "# Opcja 3: Krok po kroku (najczytelniejsze)\n",
    "import numpy as np\n",
    "\n",
    "# Oblicz każdy komponent osobno\n",
    "hl = data['High'] - data['Low']\n",
    "hc = abs(data['High'] - data['Close'].shift(1))\n",
    "lc = abs(data['Low'] - data['Close'].shift(1))\n",
    "\n",
    "# Użyj numpy.maximum dla element-wise porównania\n",
    "data['TR'] = np.maximum(hl, np.maximum(hc, lc))"
   ]
  },
  {
   "cell_type": "code",
   "execution_count": 8,
   "id": "a7a904a3",
   "metadata": {},
   "outputs": [
    {
     "name": "stdout",
     "output_type": "stream",
     "text": [
      "Price             Close         High          Low         Open      Volume  \\\n",
      "Date                                                                         \n",
      "1995-09-05   569.169983   569.200012   563.840027   563.859985   332670000   \n",
      "1995-09-06   570.169983   570.530029   569.000000   569.169983   369540000   \n",
      "1995-09-07   570.289978   571.109985   569.229980   570.169983   321720000   \n",
      "1995-09-08   572.679993   572.679993   569.270020   570.289978   317940000   \n",
      "1995-09-11   573.909973   575.150024   572.679993   572.679993   296840000   \n",
      "...                 ...          ...          ...          ...         ...   \n",
      "2025-08-28  6501.859863  6508.229980  6466.959961  6483.839844  4283760000   \n",
      "2025-08-29  6460.259766  6491.759766  6444.569824  6489.279785  4234840000   \n",
      "2025-09-02  6415.540039  6416.540039  6360.580078  6401.509766  4784000000   \n",
      "2025-09-03  6448.259766  6453.669922  6416.169922  6445.819824  4465360000   \n",
      "2025-09-04  6502.080078  6502.540039  6445.979980  6456.600098  2695833000   \n",
      "\n",
      "Price              TR  \n",
      "Date                   \n",
      "1995-09-05        NaN  \n",
      "1995-09-06   1.530029  \n",
      "1995-09-07   1.880005  \n",
      "1995-09-08   3.409973  \n",
      "1995-09-11   2.470032  \n",
      "...               ...  \n",
      "2025-08-28  41.270020  \n",
      "2025-08-29  57.290039  \n",
      "2025-09-02  99.679688  \n",
      "2025-09-03  38.129883  \n",
      "2025-09-04  56.560059  \n",
      "\n",
      "[7550 rows x 6 columns]\n"
     ]
    }
   ],
   "source": [
    "print(data)"
   ]
  },
  {
   "cell_type": "code",
   "execution_count": 10,
   "id": "2efcfb19",
   "metadata": {},
   "outputs": [],
   "source": [
    "data['ATR'] = data['TR'].rolling(window=10).mean()"
   ]
  },
  {
   "cell_type": "code",
   "execution_count": 11,
   "id": "daa5b673",
   "metadata": {},
   "outputs": [
    {
     "name": "stdout",
     "output_type": "stream",
     "text": [
      "Price             Close         High          Low         Open      Volume  \\\n",
      "Date                                                                         \n",
      "1995-09-05   569.169983   569.200012   563.840027   563.859985   332670000   \n",
      "1995-09-06   570.169983   570.530029   569.000000   569.169983   369540000   \n",
      "1995-09-07   570.289978   571.109985   569.229980   570.169983   321720000   \n",
      "1995-09-08   572.679993   572.679993   569.270020   570.289978   317940000   \n",
      "1995-09-11   573.909973   575.150024   572.679993   572.679993   296840000   \n",
      "...                 ...          ...          ...          ...         ...   \n",
      "2025-08-28  6501.859863  6508.229980  6466.959961  6483.839844  4283760000   \n",
      "2025-08-29  6460.259766  6491.759766  6444.569824  6489.279785  4234840000   \n",
      "2025-09-02  6415.540039  6416.540039  6360.580078  6401.509766  4784000000   \n",
      "2025-09-03  6448.259766  6453.669922  6416.169922  6445.819824  4465360000   \n",
      "2025-09-04  6502.080078  6502.540039  6445.979980  6456.600098  2695833000   \n",
      "\n",
      "Price              TR        ATR  \n",
      "Date                              \n",
      "1995-09-05        NaN        NaN  \n",
      "1995-09-06   1.530029        NaN  \n",
      "1995-09-07   1.880005        NaN  \n",
      "1995-09-08   3.409973        NaN  \n",
      "1995-09-11   2.470032        NaN  \n",
      "...               ...        ...  \n",
      "2025-08-28  41.270020  47.120020  \n",
      "2025-08-29  57.290039  48.900049  \n",
      "2025-09-02  99.679688  57.103027  \n",
      "2025-09-03  38.129883  55.290039  \n",
      "2025-09-04  56.560059  54.195020  \n",
      "\n",
      "[7550 rows x 7 columns]\n"
     ]
    }
   ],
   "source": [
    "print(data)"
   ]
  }
 ],
 "metadata": {
  "kernelspec": {
   "display_name": ".venv",
   "language": "python",
   "name": "python3"
  },
  "language_info": {
   "codemirror_mode": {
    "name": "ipython",
    "version": 3
   },
   "file_extension": ".py",
   "mimetype": "text/x-python",
   "name": "python",
   "nbconvert_exporter": "python",
   "pygments_lexer": "ipython3",
   "version": "3.12.8"
  }
 },
 "nbformat": 4,
 "nbformat_minor": 5
}
