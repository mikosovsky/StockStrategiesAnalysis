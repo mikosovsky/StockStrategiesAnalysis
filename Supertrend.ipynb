{
 "cells": [
  {
   "cell_type": "markdown",
   "id": "4fec2310",
   "metadata": {},
   "source": [
    "# Supertrend"
   ]
  },
  {
   "cell_type": "markdown",
   "id": "cbda27b6",
   "metadata": {},
   "source": [
    "## Average True Range"
   ]
  },
  {
   "cell_type": "markdown",
   "id": "9132a83f",
   "metadata": {},
   "source": [
    "### True Range"
   ]
  },
  {
   "cell_type": "markdown",
   "id": "858a82f6",
   "metadata": {},
   "source": [
    "$$\\text{TR}_i = \\max\\left(\\text{High}-\\text{Low},\\left|\\text{High}-\\text{Close}_{i-1}\\right|,\\left|\\text{Low}-\\text{Close}_{i-1}\\right|\\right)$$\n"
   ]
  },
  {
   "cell_type": "markdown",
   "id": "03121ab9",
   "metadata": {},
   "source": [
    "### Average True Range"
   ]
  },
  {
   "cell_type": "markdown",
   "id": "f013e05a",
   "metadata": {},
   "source": [
    "$$\\text{ATR}=\\frac{\\sum_{i=0}^n \\text{TR}_i}{n}$$"
   ]
  },
  {
   "cell_type": "markdown",
   "id": "f414d979",
   "metadata": {},
   "source": [
    "ATR the most common periods are 10, 14, 20 shorter period $\\rightarrow$ more sensitive"
   ]
  },
  {
   "cell_type": "markdown",
   "id": "f6361fde",
   "metadata": {},
   "source": [
    "## Basic Bands"
   ]
  },
  {
   "cell_type": "markdown",
   "id": "d2bae718",
   "metadata": {},
   "source": [
    "### Basic Upper Band"
   ]
  },
  {
   "cell_type": "markdown",
   "id": "545d91fe",
   "metadata": {},
   "source": [
    "$$\n",
    "\\text{UB}=\\frac{\\text{High}-\\text{Low}}{2}+\\text{Multimplier}\\times\\text{ATR}\n",
    "$$"
   ]
  },
  {
   "cell_type": "markdown",
   "id": "35dd40a7",
   "metadata": {},
   "source": [
    "### Basic Lower Band"
   ]
  },
  {
   "cell_type": "markdown",
   "id": "725c5b9b",
   "metadata": {},
   "source": [
    "$$\n",
    "\\text{LB}=\\frac{\\text{High}+\\text{Low}}{2}-\\text{Multiplier}\\times\\text{ATR}\n",
    "$$"
   ]
  },
  {
   "cell_type": "markdown",
   "id": "2212926b",
   "metadata": {},
   "source": [
    "where \\\n",
    "Multiplier - default 3 mostly used values $<2,4>$, higher multiplier mean wider buffer, less signals\\\n",
    "ATR - Average True Range for period"
   ]
  },
  {
   "cell_type": "markdown",
   "id": "c803cdca",
   "metadata": {},
   "source": [
    "## Final Bands"
   ]
  },
  {
   "cell_type": "markdown",
   "id": "f99ee95e",
   "metadata": {},
   "source": [
    "### Final Upper Band"
   ]
  },
  {
   "cell_type": "markdown",
   "id": "069ab104",
   "metadata": {},
   "source": [
    "$$\n",
    "\\text{FUB}_i=\n",
    "\\begin{cases}\n",
    "\\min(\\text{UB}_i,\\text{FUB}_{i-1}) & \\text{if Close}_{i-1}\\leq\\text{FUB}_{i-1} \\\\\n",
    "\\text{UB}_i & \\text{if Close}_{i-1}>\\text{FUB}_{i-1}\n",
    "\n",
    "\\end{cases}\n",
    "$$"
   ]
  },
  {
   "cell_type": "markdown",
   "id": "613b963e",
   "metadata": {},
   "source": [
    "### Final Lower Band"
   ]
  },
  {
   "cell_type": "markdown",
   "id": "2aa47ff1",
   "metadata": {},
   "source": [
    "$$\n",
    "\\text{FLB}_i=\n",
    "\\begin{cases}\n",
    "\\max(\\text{LB}_i,\\text{FLB}_{i-1}) & \\text{if Close}_{i-1}\\geq\\text{FLB}_{i-1} \\\\\n",
    "\\text{LB}_i & \\text{if Close}_{i-1}<\\text{FLB}_{i-1}\n",
    "\\end{cases}\n",
    "$$"
   ]
  },
  {
   "cell_type": "markdown",
   "id": "9cdf4b16",
   "metadata": {},
   "source": [
    "## Supertrend"
   ]
  },
  {
   "cell_type": "markdown",
   "id": "04c39537",
   "metadata": {},
   "source": [
    "$$\n",
    "\\text{Supertrend}_i=\n",
    "\\begin{cases}\n",
    "\\text{FLB}_i & \\text{if Close}_i>\\text{FUB}_i \\\\\n",
    "\\text{FUB}_i & \\text{if Close}_i<\\text{FLB}_i\n",
    "\\end{cases}\n",
    "$$"
   ]
  },
  {
   "cell_type": "markdown",
   "id": "8414786f",
   "metadata": {},
   "source": [
    "**If Supertrend is equal FLB then bullish trend else if Supertrend is equal FUB then bearish trend**"
   ]
  }
 ],
 "metadata": {
  "language_info": {
   "name": "python"
  }
 },
 "nbformat": 4,
 "nbformat_minor": 5
}
